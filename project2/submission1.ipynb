{
 "cells": [
  {
   "cell_type": "code",
   "execution_count": null,
   "metadata": {},
   "outputs": [],
   "source": [
    "from IPython.display import display, HTML\n",
    "display(HTML(\"<style>.container { width:100% !important; }</style>\"))"
   ]
  },
  {
   "cell_type": "code",
   "execution_count": null,
   "metadata": {},
   "outputs": [],
   "source": [
    "%matplotlib inline\n",
    "import matplotlib.pyplot as plt\n",
    "plt.rcParams[\"figure.figsize\"] = (15,15)\n",
    "from project2.util.graphviz import GraphViz"
   ]
  },
  {
   "cell_type": "code",
   "execution_count": null,
   "metadata": {},
   "outputs": [],
   "source": [
    "graph_viz = GraphViz()\n",
    "graph_fp = '/home/anthony/src/school/cs570/cs570/project2/graphs/30node.txt'\n",
    "\n",
    "graph_viz.loadGraphFromFile(graph_fp)"
   ]
  },
  {
   "cell_type": "code",
   "execution_count": null,
   "metadata": {},
   "outputs": [],
   "source": [
    "from project2.graph import Graph, Point\n",
    "from project2.search import Searcher, SearchNode"
   ]
  },
  {
   "cell_type": "code",
   "execution_count": null,
   "metadata": {},
   "outputs": [],
   "source": [
    "graph = Graph(graph_fp)\n",
    "searcher = Searcher(graph, 'DFS', 'U', 'T', 0, graph_viz=graph_viz)"
   ]
  },
  {
   "cell_type": "code",
   "execution_count": null,
   "metadata": {},
   "outputs": [],
   "source": [
    "print(f'FRONTIER: {searcher.frontier}')"
   ]
  },
  {
   "cell_type": "code",
   "execution_count": null,
   "metadata": {},
   "outputs": [],
   "source": [
    "searcher.current_node = searcher.start\n",
    "children = searcher._expand_node()\n",
    "print(children)"
   ]
  },
  {
   "cell_type": "code",
   "execution_count": null,
   "metadata": {},
   "outputs": [],
   "source": [
    "searcher._plotCurrent(children)"
   ]
  },
  {
   "cell_type": "code",
   "execution_count": null,
   "metadata": {},
   "outputs": [],
   "source": [
    "searcher._add_children(children)\n",
    "print(searcher.frontier)"
   ]
  },
  {
   "cell_type": "code",
   "execution_count": null,
   "metadata": {},
   "outputs": [],
   "source": [
    "searcher = Searcher(graph, 'BFS', 'U', 'T', 0)\n",
    "\n",
    "searcher.current_node = searcher.start\n",
    "children = searcher._expand_node()\n",
    "searcher._add_children(children)\n",
    "print(searcher.frontier)\n"
   ]
  },
  {
   "cell_type": "code",
   "execution_count": null,
   "metadata": {},
   "outputs": [],
   "source": [
    "searcher = Searcher(graph, 'BEST', 'U', 'T', 0)\n",
    "\n",
    "searcher.current_node = searcher.frontier.pop()\n",
    "children = searcher._expand_node()\n",
    "searcher._add_children(children)\n",
    "print(searcher.frontier)\n"
   ]
  },
  {
   "cell_type": "code",
   "execution_count": null,
   "metadata": {},
   "outputs": [],
   "source": [
    "K = SearchNode('K', heuristic_cost=500)\n",
    "C = SearchNode('C', heuristic_cost=91)\n",
    "J = SearchNode('J', heuristic_cost=10)\n",
    "\n",
    "searcher._add_children([K, C, J])\n",
    "print(searcher.frontier)"
   ]
  },
  {
   "cell_type": "code",
   "execution_count": null,
   "metadata": {},
   "outputs": [],
   "source": [
    "searcher = searcher = Searcher(graph, 'A*', 'V', 'T', 0, heuristic='SLD')\n",
    "searcher.current_node = searcher.frontier.pop()\n",
    "children = searcher._expand_node()\n",
    "searcher._add_children(children)\n",
    "print(searcher.frontier)"
   ]
  },
  {
   "cell_type": "code",
   "execution_count": null,
   "metadata": {},
   "outputs": [],
   "source": [
    "searcher = searcher = Searcher(graph, 'A*', 'AC', 'T', 0, heuristic='SLD')\n",
    "searcher.current_node = searcher.frontier.pop()\n",
    "children = searcher._expand_node()\n",
    "searcher._add_children(children)\n",
    "print(searcher.frontier)"
   ]
  },
  {
   "cell_type": "code",
   "execution_count": null,
   "metadata": {},
   "outputs": [],
   "source": [
    "searcher = searcher = Searcher(graph, 'A*', 'J', 'T', 0, heuristic='SLD')\n",
    "searcher.current_node = searcher.frontier.pop()\n",
    "children = searcher._expand_node()\n",
    "searcher._add_children(children)\n",
    "print(searcher.frontier)"
   ]
  },
  {
   "cell_type": "code",
   "execution_count": null,
   "metadata": {},
   "outputs": [],
   "source": [
    "# Load 300 node\n",
    "graph_fp = '/home/anthony/src/school/cs570/cs570/project2/graphs/300node.txt'\n",
    "graph_viz = GraphViz()\n",
    "graph_viz.loadGraphFromFile(graph_fp)\n",
    "\n",
    "graph = Graph(graph_fp)"
   ]
  },
  {
   "cell_type": "code",
   "execution_count": null,
   "metadata": {},
   "outputs": [],
   "source": [
    "import random\n",
    "\n",
    "# Select random start and end != start\n",
    "start = random.choice(list(graph.nodes.keys()))\n",
    "end = random.choice(list(graph.nodes.keys()))\n",
    "while start == end:\n",
    "    end = random.choice(list(graph.nodes.keys()))\n",
    "print(f'START: {start}\\nEND: {end}')"
   ]
  },
  {
   "cell_type": "code",
   "execution_count": null,
   "metadata": {},
   "outputs": [],
   "source": [
    "start = 'BX'\n",
    "end = ['K']"
   ]
  },
  {
   "cell_type": "code",
   "execution_count": null,
   "metadata": {},
   "outputs": [],
   "source": [
    "# Run 10 iterations (Of who knows what algo)\n",
    "searcher = Searcher(graph, 'DFS', start, end, expansions=10, graph_viz=graph_viz)\n",
    "# Select and save new random end\n",
    "searcher.search()\n",
    "# Run with all 5 algos on old and new end"
   ]
  },
  {
   "cell_type": "code",
   "execution_count": null,
   "metadata": {},
   "outputs": [],
   "source": [
    "new_start = 'K'\n",
    "new_end = ['AB']"
   ]
  },
  {
   "cell_type": "code",
   "execution_count": null,
   "metadata": {},
   "outputs": [],
   "source": [
    "searcher = Searcher(graph, 'BFS', start, end)\n",
    "searcher.search()\n",
    "print()\n",
    "searcher = Searcher(graph, 'BFS', new_start, new_end)\n",
    "searcher.search()\n",
    "\n",
    "# (BX, 0.00), (DC, 694.17), (AT, 715.62), (DZ, 687.25), (R, 680.52), (EJ, 724.51), (AB, 668.59), (DA, 650.74), (CB, 710.84), (AI, 706.91), (BK, 685.24), (K, 690.00)]"
   ]
  },
  {
   "cell_type": "code",
   "execution_count": null,
   "metadata": {},
   "outputs": [],
   "source": [
    "searcher = Searcher(graph, 'DFS', start, end)\n",
    "searcher.search()\n",
    "print()\n",
    "searcher = Searcher(graph, 'DFS', new_start, new_end)\n",
    "searcher.search()"
   ]
  },
  {
   "cell_type": "code",
   "execution_count": null,
   "metadata": {},
   "outputs": [],
   "source": [
    "searcher = Searcher(graph, 'BEST', start, end)\n",
    "searcher.search()\n",
    "print()\n",
    "searcher = Searcher(graph, 'BEST', new_start, new_end)\n",
    "searcher.search()"
   ]
  },
  {
   "cell_type": "code",
   "execution_count": null,
   "metadata": {},
   "outputs": [],
   "source": [
    "searcher = Searcher(graph, 'IDS', start, end)\n",
    "searcher.search()\n",
    "print()\n",
    "searcher = Searcher(graph, 'IDS', new_start, new_end)\n",
    "searcher.search()"
   ]
  },
  {
   "cell_type": "code",
   "execution_count": null,
   "metadata": {},
   "outputs": [],
   "source": [
    "searcher = Searcher(graph, 'A*', start, end, heuristic='SLD', verbose=True)\n",
    "searcher.search()"
   ]
  },
  {
   "cell_type": "code",
   "execution_count": null,
   "metadata": {},
   "outputs": [],
   "source": [
    "searcher = Searcher(graph, 'A*', new_start, new_end, heuristic='SLD', graph_viz=graph_viz)\n",
    "searcher.search()"
   ]
  },
  {
   "cell_type": "code",
   "execution_count": null,
   "metadata": {},
   "outputs": [],
   "source": [
    "searcher = Searcher(graph, 'A*', start, end, heuristic='DIR')\n",
    "searcher.search()"
   ]
  },
  {
   "cell_type": "code",
   "execution_count": null,
   "metadata": {},
   "outputs": [],
   "source": [
    "searcher = Searcher(graph, 'A*', new_start, new_end, heuristic='DIR', graph_viz=graph_viz)\n",
    "searcher.search()"
   ]
  },
  {
   "cell_type": "code",
   "execution_count": null,
   "metadata": {},
   "outputs": [],
   "source": []
  }
 ],
 "metadata": {
  "kernelspec": {
   "display_name": "cs570",
   "language": "python",
   "name": "cs570"
  },
  "language_info": {
   "codemirror_mode": {
    "name": "ipython",
    "version": 3
   },
   "file_extension": ".py",
   "mimetype": "text/x-python",
   "name": "python",
   "nbconvert_exporter": "python",
   "pygments_lexer": "ipython3",
   "version": "3.8.13"
  }
 },
 "nbformat": 4,
 "nbformat_minor": 2
}
