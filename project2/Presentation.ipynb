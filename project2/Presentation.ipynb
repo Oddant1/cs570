{
 "cells": [
  {
   "cell_type": "code",
   "execution_count": null,
   "id": "45e2b59b",
   "metadata": {},
   "outputs": [],
   "source": [
    "from project2.util.graphmaker import GraphMaker\n",
    "\n",
    "graph1 = GraphMaker(35)\n",
    "graph1.plot()"
   ]
  },
  {
   "cell_type": "code",
   "execution_count": null,
   "id": "f712eb01",
   "metadata": {},
   "outputs": [],
   "source": [
    "graph2 = GraphMaker(35)\n",
    "graph2.plot()"
   ]
  },
  {
   "cell_type": "code",
   "execution_count": null,
   "id": "21900d66",
   "metadata": {},
   "outputs": [],
   "source": [
    "graph1.export(graph1_fp)\n",
    "graph2.export(graph2_fp)"
   ]
  },
  {
   "cell_type": "code",
   "execution_count": null,
   "id": "60fb8246",
   "metadata": {},
   "outputs": [],
   "source": [
    "graph1_pairs = [('D', ('AE',)), ('D', ('AG',)), ('O', 'A'), ('I', 'X'), ('W', 'H'),\n",
    "    ('D', ('AE', 'AG')), ('D', ('AG', 'A')), ('O', ('A', 'X')), ('I', ('X', 'H')), ('W', ('H', 'AG'))]\n",
    "graph2_pairs = [('I', 'V'), ('H', 'K'), ('AB', 'Y'), ('C', 'O'), ('R', ('AF',)),\n",
    "    ('I', ('V', 'K')), ('H', ('K', 'Y')), ('AB', ('Y', 'O')), ('C', ('O', 'AF')), ('R', ('AF', 'V'))]"
   ]
  },
  {
   "cell_type": "code",
   "execution_count": null,
   "id": "2dac3064",
   "metadata": {},
   "outputs": [],
   "source": [
    "from project2.graph import Graph\n",
    "from project2.search import Searcher\n",
    "import warnings\n",
    "warnings.filterwarnings('ignore')"
   ]
  },
  {
   "cell_type": "code",
   "execution_count": null,
   "id": "c10c27ae",
   "metadata": {},
   "outputs": [],
   "source": [
    "graph1_fp = '/home/anthony/src/school/cs570/cs570/project2/graphs/graph1.txt'\n",
    "graph2_fp = '/home/anthony/src/school/cs570/cs570/project2/graphs/graph2.txt'\n",
    "\n",
    "graph1 = Graph(graph1_fp)\n",
    "graph2 = Graph(graph2_fp)"
   ]
  },
  {
   "cell_type": "code",
   "execution_count": null,
   "id": "29c7cbcb",
   "metadata": {},
   "outputs": [],
   "source": [
    "import pandas as pd\n",
    "df = pd.DataFrame(columns=['Graph', 'Algorithm', 'Heuristic', 'Start', 'Goal(s)', 'Cost', 'Explored',\n",
    "                           'avg_open', 'max_open', 'avg_depth', 'max_depth', 'avg_branching'])"
   ]
  },
  {
   "cell_type": "code",
   "execution_count": null,
   "id": "32a0e390",
   "metadata": {},
   "outputs": [],
   "source": [
    "print(df)"
   ]
  },
  {
   "cell_type": "code",
   "execution_count": null,
   "id": "aac5e656",
   "metadata": {},
   "outputs": [],
   "source": [
    "for i, graph in enumerate((graph1, graph2)):\n",
    "    for algorithm in ('BFS', 'DFS', 'BEST', 'IDS'):\n",
    "        for pair in (graph1_pairs, graph2_pairs)[i]:\n",
    "            searcher = Searcher(graph, algorithm, pair[0], pair[1])\n",
    "            searcher.search()\n",
    "            d = {\n",
    "                'Graph': graph.file,\n",
    "                'Algorithm': searcher.algorithm,\n",
    "                'Heuristic': 'N/A',\n",
    "                'Start': pair[0],\n",
    "                'Goal(s)': pair[1],\n",
    "                'Cost': searcher.current_node.cost,\n",
    "                'Explored': searcher.expansions_taken,\n",
    "                'avg_open': searcher.avg_open,\n",
    "                'max_open': searcher.max_open,\n",
    "                'avg_depth': searcher.avg_depth,\n",
    "                'max_depth': searcher.max_depth,\n",
    "                'avg_branching': searcher.avg_branching\n",
    "            }\n",
    "            df = df.append(d, ignore_index=True)"
   ]
  },
  {
   "cell_type": "code",
   "execution_count": null,
   "id": "ae7d467a",
   "metadata": {},
   "outputs": [],
   "source": [
    "print(df)"
   ]
  },
  {
   "cell_type": "code",
   "execution_count": null,
   "id": "41dd2c52",
   "metadata": {},
   "outputs": [],
   "source": [
    "df.to_csv('/home/anthony/test.csv')"
   ]
  },
  {
   "cell_type": "code",
   "execution_count": null,
   "id": "a0966b6a",
   "metadata": {},
   "outputs": [],
   "source": [
    "for i, graph in enumerate((graph1, graph2)):\n",
    "    for heuristic in ('SLD', 'DIR'):\n",
    "        for pair in (graph1_pairs, graph2_pairs)[i]:\n",
    "            searcher = Searcher(graph, 'A*', pair[0], pair[1], heuristic=heuristic)\n",
    "            searcher.search()\n",
    "            d = {\n",
    "                'Graph': graph.file,\n",
    "                'Algorithm': 'A*',\n",
    "                'Heuristic': heuristic,\n",
    "                'Start': pair[0],\n",
    "                'Goal(s)': pair[1],\n",
    "                'Cost': searcher.current_node.cost,\n",
    "                'Explored': searcher.expansions_taken,\n",
    "                'avg_open': searcher.avg_open,\n",
    "                'max_open': searcher.max_open,\n",
    "                'avg_depth': searcher.avg_depth,\n",
    "                'max_depth': searcher.max_depth,\n",
    "                'avg_branching': searcher.avg_branching\n",
    "            }\n",
    "            df = df.append(d, ignore_index=True)"
   ]
  },
  {
   "cell_type": "code",
   "execution_count": null,
   "id": "70ece611",
   "metadata": {},
   "outputs": [],
   "source": [
    "print(df)"
   ]
  },
  {
   "cell_type": "code",
   "execution_count": null,
   "id": "0642eaa2",
   "metadata": {},
   "outputs": [],
   "source": [
    "df.to_csv('/home/anthony/src/school/cs570/cs570/project2/presentation_data.csv')"
   ]
  },
  {
   "cell_type": "code",
   "execution_count": null,
   "id": "eabf79b0",
   "metadata": {},
   "outputs": [],
   "source": [
    "%matplotlib inline\n",
    "from project2.util.graphviz import GraphViz\n",
    "\n",
    "graph_fp = '/home/anthony/src/school/cs570/cs570/project2/graphs/dirdumb.txt'\n",
    "\n",
    "graph = Graph(graph_fp)\n",
    "graph_viz = GraphViz()\n",
    "graph_viz.loadGraphFromFile(graph_fp)\n",
    "\n",
    "Searcher(graph, 'A*', 'A', ['C', 'D'], heuristic='DIR', graph_viz=graph_viz).search()"
   ]
  },
  {
   "cell_type": "code",
   "execution_count": null,
   "id": "ae1273a7",
   "metadata": {},
   "outputs": [],
   "source": [
    "Searcher(graph, 'A*', 'A', ['C', 'D'], heuristic='SLD', graph_viz=graph_viz).search()"
   ]
  },
  {
   "cell_type": "code",
   "execution_count": null,
   "id": "6e2125e6",
   "metadata": {},
   "outputs": [],
   "source": [
    "import matplotlib.pyplot as plt\n",
    "from IPython.display import display, HTML\n",
    "display(HTML(\"<style>.container { width:100% !important; }</style>\"))\n",
    "plt.rcParams[\"figure.figsize\"] = (15,15)"
   ]
  },
  {
   "cell_type": "code",
   "execution_count": null,
   "id": "b177ac39",
   "metadata": {},
   "outputs": [],
   "source": [
    "graph1_df = df.loc[df['Graph'] == graph1_fp]\n",
    "graph2_df = df.loc[df['Graph'] == graph2_fp]"
   ]
  },
  {
   "cell_type": "code",
   "execution_count": null,
   "id": "6a77008b",
   "metadata": {},
   "outputs": [],
   "source": [
    "graph1_dfs = graph1_df.loc[graph1_df['Algorithm'] == 'DFS']"
   ]
  },
  {
   "cell_type": "code",
   "execution_count": null,
   "id": "8017e863",
   "metadata": {},
   "outputs": [],
   "source": [
    "fig, ax = plt.subplots()\n",
    "ax.axis('off')\n",
    "ax.axis('tight')\n",
    "t= ax.table(cellText=graph1_dfs.values, colWidths = [0.9]*len(graph1_dfs.columns),  colLabels=graph1_dfs.columns,  loc='center')\n",
    "t.auto_set_font_size(False) \n",
    "t.set_fontsize(8)\n",
    "fig.tight_layout()\n",
    "plt.show()"
   ]
  },
  {
   "cell_type": "code",
   "execution_count": null,
   "id": "a31096ab",
   "metadata": {},
   "outputs": [],
   "source": [
    "BFS = df.loc[df['Algorithm'] == 'BFS']\n",
    "BFS_avg = BFS[['Cost',\n",
    "                'Explored',\n",
    "                'avg_open',\n",
    "                'max_open',\n",
    "                'avg_depth',\n",
    "                'max_depth',\n",
    "                'avg_branching']].mean()\n",
    "print(BFS_avg)"
   ]
  },
  {
   "cell_type": "code",
   "execution_count": null,
   "id": "42a2cdda",
   "metadata": {},
   "outputs": [],
   "source": [
    "DFS = df.loc[df['Algorithm'] == 'DFS']\n",
    "DFS_avg = DFS[['Cost',\n",
    "                'Explored',\n",
    "                'avg_open',\n",
    "                'max_open',\n",
    "                'avg_depth',\n",
    "                'max_depth',\n",
    "                'avg_branching']].mean()\n",
    "print(DFS_avg)"
   ]
  },
  {
   "cell_type": "code",
   "execution_count": null,
   "id": "81296355",
   "metadata": {},
   "outputs": [],
   "source": [
    "BEST = df.loc[df['Algorithm'] == 'BEST']\n",
    "BEST_avg = BEST[['Cost',\n",
    "                'Explored',\n",
    "                'avg_open',\n",
    "                'max_open',\n",
    "                'avg_depth',\n",
    "                'max_depth',\n",
    "                'avg_branching']].mean()\n",
    "print(BEST_avg)"
   ]
  },
  {
   "cell_type": "code",
   "execution_count": null,
   "id": "df9fb2ef",
   "metadata": {},
   "outputs": [],
   "source": [
    "IDS = df.loc[df['Algorithm'] == 'IDS']\n",
    "IDS_avg = IDS[['Cost',\n",
    "                'Explored',\n",
    "                'avg_open',\n",
    "                'max_open',\n",
    "                'avg_depth',\n",
    "                'max_depth',\n",
    "                'avg_branching']].mean()\n",
    "print(IDS_avg)"
   ]
  },
  {
   "cell_type": "code",
   "execution_count": null,
   "id": "856c2143",
   "metadata": {},
   "outputs": [],
   "source": [
    "AStar = df.loc[df['Algorithm'] == 'A*']\n",
    "SLD = AStar.loc[AStar['Heuristic'] == 'SLD']\n",
    "SLD_avg = SLD[['Cost',\n",
    "                'Explored',\n",
    "                'avg_open',\n",
    "                'max_open',\n",
    "                'avg_depth',\n",
    "                'max_depth',\n",
    "                'avg_branching']].mean()\n",
    "print(SLD_avg)"
   ]
  },
  {
   "cell_type": "code",
   "execution_count": null,
   "id": "8ca9d46d",
   "metadata": {},
   "outputs": [],
   "source": [
    "DIR = AStar.loc[AStar['Heuristic'] == 'DIR']\n",
    "DIR_avg = DIR[['Cost',\n",
    "                'Explored',\n",
    "                'avg_open',\n",
    "                'max_open',\n",
    "                'avg_depth',\n",
    "                'max_depth',\n",
    "                'avg_branching']].mean()\n",
    "print(DIR_avg)"
   ]
  }
 ],
 "metadata": {
  "kernelspec": {
   "display_name": "cs570",
   "language": "python",
   "name": "cs570"
  },
  "language_info": {
   "codemirror_mode": {
    "name": "ipython",
    "version": 3
   },
   "file_extension": ".py",
   "mimetype": "text/x-python",
   "name": "python",
   "nbconvert_exporter": "python",
   "pygments_lexer": "ipython3",
   "version": "3.8.13"
  }
 },
 "nbformat": 4,
 "nbformat_minor": 5
}
