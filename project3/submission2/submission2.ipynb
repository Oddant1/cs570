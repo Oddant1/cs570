{
 "cells": [
  {
   "cell_type": "code",
   "execution_count": null,
   "metadata": {},
   "outputs": [],
   "source": [
    "import torch\n",
    "\n",
    "import numpy as np\n",
    "import pandas as pd\n",
    "\n",
    "import submission2_utils as util\n",
    "import genetic"
   ]
  },
  {
   "cell_type": "code",
   "execution_count": null,
   "metadata": {},
   "outputs": [],
   "source": [
    "# Prep our data\n",
    "df = pd.read_csv('../data/train.csv', index_col=0)\n",
    "df.fillna(0, inplace=True)\n",
    "num_df, idx_mapping, column_mapping = util.categorical_to_numeric(df)\n",
    "# num_df.to_csv('../data/train_num.csv')\n",
    "norm_df = util.normalize(num_df)\n",
    "# norm_df.to_csv('../data/train_norm_num.csv')"
   ]
  },
  {
   "cell_type": "code",
   "execution_count": null,
   "metadata": {},
   "outputs": [],
   "source": [
    "norm_thresholds = (.2, .4, .6, .8, 1)\n",
    "unnorm_thresholds = \\\n",
    "    [util.unnormalize(num_df, 'SalePrice', x) for x in norm_thresholds]\n",
    "\n",
    "fitness_function = util.Net()\n",
    "fitness_function.load_state_dict(torch.load('../model/sub2.pth'))\n",
    "fitness_function = fitness_function.eval()\n",
    "\n",
    "first_generation = [house for house in util.create_houses(20, num_df)]"
   ]
  },
  {
   "cell_type": "code",
   "execution_count": null,
   "metadata": {},
   "outputs": [],
   "source": [
    "generations, pruned_generations = genetic.genetic_algorithm(first_generation, fitness_function, 20,\n",
    "                                                            20, unnorm_thresholds[0], num_df, idx_mapping,\n",
    "                                                            column_mapping, secondary_fitness='GarageArea')"
   ]
  },
  {
   "cell_type": "code",
   "execution_count": null,
   "metadata": {},
   "outputs": [],
   "source": [
    "print(unnorm_thresholds[0])"
   ]
  },
  {
   "cell_type": "code",
   "execution_count": null,
   "metadata": {},
   "outputs": [],
   "source": [
    "for idx, generation in enumerate(generations):\n",
    "    valid_generation = [house for house in generation if house.fitness <= unnorm_thresholds[0]]\n",
    "    sum = 0\n",
    "    sum2 = 0\n",
    "    num = 0\n",
    "    for house in valid_generation:\n",
    "        sum += house.fitness\n",
    "        sum2 += house.secondary_fitness\n",
    "        num += 1\n",
    "    if num > 0:\n",
    "        sum /= num\n",
    "        sum2 /= num\n",
    "    print(f'{idx}, {num}: {sum}, {sum2}')"
   ]
  },
  {
   "cell_type": "code",
   "execution_count": null,
   "metadata": {},
   "outputs": [],
   "source": [
    "for idx, generation in enumerate(pruned_generations):\n",
    "    sum = 0\n",
    "    num = 0\n",
    "    for house in generation:\n",
    "        sum += house.fitness\n",
    "        num += 1\n",
    "    if num > 0:\n",
    "        sum /= num\n",
    "    print(f'{idx}, {num}: {sum}')"
   ]
  },
  {
   "cell_type": "code",
   "execution_count": null,
   "metadata": {},
   "outputs": [],
   "source": [
    "print(pruned_generations[0])"
   ]
  },
  {
   "cell_type": "code",
   "execution_count": null,
   "metadata": {},
   "outputs": [],
   "source": [
    "print(pruned_generations[-1])"
   ]
  },
  {
   "cell_type": "code",
   "execution_count": null,
   "metadata": {},
   "outputs": [],
   "source": [
    "# 0, 2: 172470.4269297421, 816.0\n",
    "# 1, 6: 169888.41894467673, 816.0\n",
    "# 2, 15: 163586.1464269956, 938.0\n",
    "# 3, 17: 167929.81650540058, 1009.7647058823529\n",
    "# 4, 16: 170053.41291092336, 1136.25\n",
    "# 5, 17: 171586.64349694463, 1182.0\n",
    "# 6, 20: 176049.36519771814, 1182.0\n",
    "# 7, 20: 177044.42321754992, 1178.8\n",
    "# 8, 19: 178265.89332222939, 1183.6842105263158\n",
    "# 9, 18: 177840.5337173078, 1183.7777777777778\n",
    "# 10, 17: 178354.82766084812, 1185.764705882353\n",
    "# 11, 20: 176918.75500254333, 1185.2\n",
    "# 12, 17: 176772.7445823305, 1189.5294117647059\n",
    "# 13, 19: 178819.08342838287, 1190.421052631579\n",
    "# 14, 14: 176397.19132663947, 1188.857142857143\n",
    "# 15, 17: 178063.51887224353, 1191.4117647058824\n",
    "# 16, 20: 176126.51624292135, 1183.6\n",
    "# 17, 19: 176058.6268246174, 1182.0\n",
    "# 18, 19: 177120.94549387693, 1182.0\n",
    "# 19, 18: 178853.4616050621, 1182.0\n",
    "# 20, 20: 178795.33989913762, 1182.0"
   ]
  },
  {
   "cell_type": "code",
   "execution_count": null,
   "metadata": {},
   "outputs": [],
   "source": [
    "# 0, 4: 166682.46216475964, 549.0\n",
    "# 1, 15: 160545.95816403627, 781.3333333333334\n",
    "# 2, 17: 166090.4618641033, 870.1764705882352\n",
    "# 3, 17: 166097.23774948542, 709.8823529411765\n",
    "# 4, 14: 171883.4121730711, 678.6428571428571\n",
    "# 5, 19: 174523.81574958563, 713.4736842105264\n",
    "# 6, 18: 173821.80838121308, 635.3888888888889\n",
    "# 7, 15: 175880.09072552124, 629.3333333333334\n",
    "# 8, 17: 177000.53930790984, 644.2941176470588\n",
    "# 9, 19: 177332.88524895906, 656.1052631578947\n",
    "# 10, 15: 175265.9748438994, 629.3333333333334\n",
    "# 11, 18: 178736.39613100223, 574.8333333333334\n",
    "# 12, 18: 178755.39536575475, 484.0\n",
    "# 13, 18: 178885.2490040991, 484.0\n",
    "# 14, 20: 178409.1474123299, 484.0\n",
    "# 15, 13: 178859.2916113826, 484.0\n",
    "# 16, 13: 178704.5685620262, 484.0\n",
    "# 17, 18: 178817.54004980126, 484.0\n",
    "# 18, 17: 178653.9392901694, 484.0\n",
    "# 19, 18: 177626.08099513582, 484.0\n",
    "# 20, 17: 178823.70504298632, 484.0"
   ]
  }
 ],
 "metadata": {
  "kernelspec": {
   "display_name": "cs570",
   "language": "python",
   "name": "cs570"
  },
  "language_info": {
   "codemirror_mode": {
    "name": "ipython",
    "version": 3
   },
   "file_extension": ".py",
   "mimetype": "text/x-python",
   "name": "python",
   "nbconvert_exporter": "python",
   "pygments_lexer": "ipython3",
   "version": "3.8.13"
  },
  "orig_nbformat": 4,
  "vscode": {
   "interpreter": {
    "hash": "f62bda96c95cf99f66c2399ad8a8c2403680698ed01c2bf0da030b04f4559496"
   }
  }
 },
 "nbformat": 4,
 "nbformat_minor": 2
}
