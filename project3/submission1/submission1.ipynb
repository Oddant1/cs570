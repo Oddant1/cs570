{
 "cells": [
  {
   "cell_type": "markdown",
   "metadata": {},
   "source": [
    "I DID NOT UPDATE THE PATHS AFTER MOVING THIS INTO A NEW FOLDER SO A LOT OF THIS\n",
    "WON'T WORK UNTIL I DO"
   ]
  },
  {
   "cell_type": "code",
   "execution_count": null,
   "metadata": {},
   "outputs": [],
   "source": [
    "import pandas as pd\n",
    "from sklearn import linear_model"
   ]
  },
  {
   "cell_type": "code",
   "execution_count": 4,
   "metadata": {},
   "outputs": [],
   "source": [
    "def categorical_to_numeric(df):\n",
    "    \"\"\"Takes a dataframe and for every non-numeric column in the dataframe it\n",
    "    maps each observed value in that column to a unique numerical value. It\n",
    "    returns the dataframe mutated by the mapping and the mapping\n",
    "    \"\"\"\n",
    "    mapping = {}\n",
    "    num_df = df.copy()\n",
    "\n",
    "    for column in df.columns:\n",
    "        if not pd.api.types.is_numeric_dtype(df[column]) or \\\n",
    "                column == 'MSSubClass':\n",
    "            counter = 0\n",
    "            mapping[column] = {}\n",
    "\n",
    "            for value in df[column]:\n",
    "                if value in mapping[column].keys():\n",
    "                    continue\n",
    "\n",
    "                mapping[column][value] = counter\n",
    "                mapping[column][counter] = value\n",
    "                counter += 1\n",
    "\n",
    "            df = df.replace({column: mapping[column]})\n",
    "\n",
    "    return df, mapping"
   ]
  },
  {
   "cell_type": "code",
   "execution_count": 8,
   "metadata": {},
   "outputs": [],
   "source": [
    "def normalize(df):\n",
    "    for column in df.columns:\n",
    "        df[column] = (df[column] - df[column].min()) / (df[column].max() - df[column].min())\n",
    "\n",
    "    return df"
   ]
  },
  {
   "cell_type": "code",
   "execution_count": 9,
   "metadata": {},
   "outputs": [],
   "source": [
    "def unnormalize(df, column, value):\n",
    "    \"\"\"Takes in a dataframe, a column, and a value then reverses the\n",
    "    normalization on the value is if it were a value in the given column of the\n",
    "    given dataframe\n",
    "    \"\"\"\n",
    "    return value * (df[column].max() - df[column].min()) + df[column].min()"
   ]
  },
  {
   "cell_type": "code",
   "execution_count": 12,
   "metadata": {},
   "outputs": [],
   "source": [
    "# Used to unnormalize\n",
    "ref_df = pd.read_csv('/home/anthony/src/school/cs570/cs570/project3/data/train_num.csv')"
   ]
  },
  {
   "cell_type": "code",
   "execution_count": null,
   "metadata": {},
   "outputs": [],
   "source": [
    "# Only load train because test doesn't have the SalePrice\n",
    "df = pd.read_csv('/home/anthony/src/school/cs570/cs570/project3/data/train.csv')\n",
    "# We don't want to include Id in our regression because it is arbitrary\n",
    "df.drop('Id', axis=1, inplace=True)\n",
    "# Nan values cause issues, replace them with 0\n",
    "df.fillna(0, inplace=True)\n",
    "\n",
    "# Map categorical column values to numerical values arbitrarily but consistently\n",
    "df, mapping = categorical_to_numeric(df)"
   ]
  },
  {
   "cell_type": "code",
   "execution_count": null,
   "metadata": {},
   "outputs": [],
   "source": [
    "df = pd.read_csv('./data/train_num.csv', index_col=0)\n",
    "# What we are trying to predict\n",
    "dependent_var = 'SalePrice'\n",
    "\n",
    "# All independent variables\n",
    "covariates = df[df.columns[df.columns!=dependent_var]]\n",
    "# The dependent variable\n",
    "dependent = df[dependent_var]"
   ]
  },
  {
   "cell_type": "code",
   "execution_count": null,
   "metadata": {},
   "outputs": [],
   "source": [
    "regression = linear_model.LinearRegression()\n",
    "regression.fit(covariates.values, dependent)"
   ]
  },
  {
   "cell_type": "code",
   "execution_count": null,
   "metadata": {},
   "outputs": [],
   "source": [
    "df = pd.read_csv('./data/test_num.csv', index_col=0)\n",
    "\n",
    "out_fp = './unnorm_reg.csv'\n",
    "with open(out_fp, 'w') as fh:\n",
    "    fh.write('Id,SalePrice\\n')\n",
    "    for i in range(len(df.index)):\n",
    "        pred = regression.predict([df.iloc[i]])[0]\n",
    "        fh.write(f'{i + 1461},{pred}\\n')"
   ]
  },
  {
   "cell_type": "code",
   "execution_count": null,
   "metadata": {},
   "outputs": [],
   "source": [
    "norm_df = pd.read_csv('./data/train_norm_num.csv', index_col=0)\n",
    "# What we are trying to predict\n",
    "dependent_var = 'SalePrice'\n",
    "\n",
    "# All independent variables\n",
    "covariates = norm_df[norm_df.columns[norm_df.columns!=dependent_var]]\n",
    "# The dependent variable\n",
    "dependent = norm_df[dependent_var]"
   ]
  },
  {
   "cell_type": "code",
   "execution_count": null,
   "metadata": {},
   "outputs": [],
   "source": [
    "norm_regression = linear_model.LinearRegression()\n",
    "norm_regression.fit(covariates.values, dependent)"
   ]
  },
  {
   "cell_type": "code",
   "execution_count": null,
   "metadata": {},
   "outputs": [],
   "source": [
    "df = pd.read_csv('./data/test_norm_num.csv', index_col=0)\n",
    "\n",
    "out_fp = './norm_reg.csv'\n",
    "with open(out_fp, 'w') as fh:\n",
    "    fh.write('Id,SalePrice\\n')\n",
    "    for i in range(len(df.index)):\n",
    "        pred = norm_regression.predict([df.iloc[i]])[0]\n",
    "        unnormalized_pred = unnormalize(ref_df, 'SalePrice', pred)\n",
    "        fh.write(f'{i + 1461},{pred}\\n')"
   ]
  },
  {
   "cell_type": "code",
   "execution_count": null,
   "metadata": {},
   "outputs": [],
   "source": [
    "# Only load train because test doesn't have the SalePrice\n",
    "df = pd.read_csv('/home/anthony/src/school/cs570/cs570/project3/data/train.csv')\n",
    "# Nan values cause issues, replace them with 0\n",
    "df.fillna(0, inplace=True)\n",
    "df.drop('Id', axis=1, inplace=True)\n",
    "\n",
    "# Map categorical column values to numerical values arbitrarily but consistently\n",
    "df, mapping = categorical_to_numeric(df)\n",
    "\n",
    "df.to_csv('./data/train_num.csv')\n",
    "df = pd.read_csv('./data/train_num.csv')\n",
    "print(len(df.iloc[0]))"
   ]
  },
  {
   "cell_type": "code",
   "execution_count": null,
   "metadata": {},
   "outputs": [],
   "source": [
    "# Only load train because test doesn't have the SalePrice\n",
    "df = pd.read_csv('/home/anthony/src/school/cs570/cs570/project3/data/test.csv')\n",
    "# Nan values cause issues, replace them with 0\n",
    "df.fillna(0, inplace=True)\n",
    "\n",
    "# Map categorical column values to numerical values arbitrarily but consistently\n",
    "df, mapping = categorical_to_numeric(df)\n",
    "\n",
    "df.to_csv('./data/test_num.csv')\n",
    "df = pd.read_csv('./data/test_num.csv')\n",
    "print(len(df.iloc[0]))"
   ]
  },
  {
   "cell_type": "code",
   "execution_count": null,
   "metadata": {},
   "outputs": [],
   "source": [
    "# Only load train because test doesn't have the SalePrice\n",
    "df = pd.read_csv('/home/anthony/src/school/cs570/cs570/project3/data/train.csv')\n",
    "# Nan values cause issues, replace them with 0\n",
    "df.fillna(0, inplace=True)\n",
    "df.drop('Id', axis=1, inplace=True)\n",
    "\n",
    "# Map categorical column values to numerical values arbitrarily but consistently\n",
    "df, mapping = categorical_to_numeric(df)\n",
    "df = normalize(df)\n",
    "\n",
    "df.to_csv('./data/train_norm_num.csv')\n",
    "df = pd.read_csv('./data/train_norm_num.csv')\n",
    "print(len(df.iloc[0]))"
   ]
  },
  {
   "cell_type": "code",
   "execution_count": 3,
   "metadata": {},
   "outputs": [
    {
     "ename": "NameError",
     "evalue": "name 'categorical_to_numeric' is not defined",
     "output_type": "error",
     "traceback": [
      "\u001b[0;31m---------------------------------------------------------------------------\u001b[0m",
      "\u001b[0;31mNameError\u001b[0m                                 Traceback (most recent call last)",
      "Cell \u001b[0;32mIn [3], line 7\u001b[0m\n\u001b[1;32m      4\u001b[0m df\u001b[39m.\u001b[39mfillna(\u001b[39m0\u001b[39m, inplace\u001b[39m=\u001b[39m\u001b[39mTrue\u001b[39;00m)\n\u001b[1;32m      6\u001b[0m \u001b[39m# Map categorical column values to numerical values arbitrarily but consistently\u001b[39;00m\n\u001b[0;32m----> 7\u001b[0m df, mapping \u001b[39m=\u001b[39m categorical_to_numeric(df)\n\u001b[1;32m      8\u001b[0m df \u001b[39m=\u001b[39m normalize(df)\n\u001b[1;32m     10\u001b[0m df\u001b[39m.\u001b[39mto_csv(\u001b[39m'\u001b[39m\u001b[39m./data/test_norm_num.csv\u001b[39m\u001b[39m'\u001b[39m)\n",
      "\u001b[0;31mNameError\u001b[0m: name 'categorical_to_numeric' is not defined"
     ]
    }
   ],
   "source": [
    "# Only load train because test doesn't have the SalePrice\n",
    "df = pd.read_csv('/home/anthony/src/school/cs570/cs570/project3/data/test.csv')\n",
    "# Nan values cause issues, replace them with 0\n",
    "df.fillna(0, inplace=True)\n",
    "\n",
    "# Map categorical column values to numerical values arbitrarily but consistently\n",
    "df, mapping = categorical_to_numeric(df)\n",
    "df = normalize(df)\n",
    "\n",
    "df.to_csv('./data/test_norm_num.csv')\n",
    "df = pd.read_csv('./data/test_norm_num.csv')\n",
    "print(len(df.iloc[0]))"
   ]
  },
  {
   "cell_type": "code",
   "execution_count": 1,
   "metadata": {},
   "outputs": [],
   "source": [
    "import torch\n",
    "\n",
    "import numpy as np\n",
    "import pandas as pd"
   ]
  },
  {
   "cell_type": "code",
   "execution_count": 2,
   "metadata": {},
   "outputs": [],
   "source": [
    "class Net(torch.nn.Module):\n",
    "    def __init__(self):\n",
    "        super(Net, self).__init__()\n",
    "        self.hid1 = torch.nn.Linear(79, 178)  # 79-(61-61)-1\n",
    "        self.hid2 = torch.nn.Linear(178, 178)\n",
    "        self.hid3 = torch.nn.Linear(178, 178)\n",
    "        self.oupt = torch.nn.Linear(178, 1)\n",
    "        torch.nn.init.xavier_uniform_(self.hid1.weight)  # glorot\n",
    "        torch.nn.init.zeros_(self.hid1.bias)\n",
    "        torch.nn.init.xavier_uniform_(self.hid2.weight)\n",
    "        torch.nn.init.zeros_(self.hid2.bias)\n",
    "        torch.nn.init.xavier_uniform_(self.hid3.weight)\n",
    "        torch.nn.init.zeros_(self.hid3.bias)\n",
    "        torch.nn.init.xavier_uniform_(self.oupt.weight)\n",
    "        torch.nn.init.zeros_(self.oupt.bias)\n",
    "\n",
    "    def forward(self, x):\n",
    "        z = torch.relu(self.hid1(x))\n",
    "        z = torch.relu(self.hid2(z))\n",
    "        z = torch.relu(self.hid3(z))\n",
    "        z = self.oupt(z)  # no activation, aka Identity()\n",
    "        return z"
   ]
  },
  {
   "cell_type": "code",
   "execution_count": 5,
   "metadata": {},
   "outputs": [],
   "source": [
    "test_fp = '/home/anthony/src/school/cs570/cs570/project3/data/test_norm_num.csv'\n",
    "test_x_id = np.loadtxt(test_fp, delimiter=\",\", skiprows=1, usecols=range(0, 1), dtype=np.float32)\n",
    "test_x = np.loadtxt(test_fp, delimiter=\",\", skiprows=1, usecols=range(1, 80), dtype=np.float32)"
   ]
  },
  {
   "cell_type": "code",
   "execution_count": 6,
   "metadata": {},
   "outputs": [],
   "source": [
    "loaded = Net()\n",
    "loaded.load_state_dict(torch.load('../test/sub2.pth'))\n",
    "loaded = loaded.eval()"
   ]
  },
  {
   "cell_type": "code",
   "execution_count": 14,
   "metadata": {},
   "outputs": [],
   "source": [
    "out_fp = './nn_sub2_out.csv'\n",
    "with open(out_fp, 'w') as fh:\n",
    "    fh.write('Id,SalePrice\\n')\n",
    "    for id, val in zip(test_x_id, test_x):\n",
    "        pred = loaded(torch.Tensor(val))[0].item()\n",
    "        unnormalized_pred = unnormalize(ref_df, 'SalePrice', pred)\n",
    "        fh.write(f'{int(id)},{unnormalized_pred}\\n')"
   ]
  }
 ],
 "metadata": {
  "kernelspec": {
   "display_name": "Python 3.8.13 ('base')",
   "language": "python",
   "name": "python3"
  },
  "language_info": {
   "codemirror_mode": {
    "name": "ipython",
    "version": 3
   },
   "file_extension": ".py",
   "mimetype": "text/x-python",
   "name": "python",
   "nbconvert_exporter": "python",
   "pygments_lexer": "ipython3",
   "version": "3.8.13"
  },
  "orig_nbformat": 4,
  "vscode": {
   "interpreter": {
    "hash": "f62bda96c95cf99f66c2399ad8a8c2403680698ed01c2bf0da030b04f4559496"
   }
  }
 },
 "nbformat": 4,
 "nbformat_minor": 2
}
