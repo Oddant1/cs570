{
 "cells": [
  {
   "cell_type": "code",
   "execution_count": null,
   "metadata": {},
   "outputs": [],
   "source": [
    "import pandas as pd\n",
    "from sklearn import linear_model"
   ]
  },
  {
   "cell_type": "code",
   "execution_count": null,
   "metadata": {},
   "outputs": [],
   "source": [
    "def categorical_to_numeric(df):\n",
    "    \"\"\"Takes a dataframe and for every non-numeric column in the dataframe it\n",
    "    maps each observed value in that column to a unique numerical value. It\n",
    "    returns the dataframe mutated by the mapping and the mapping\n",
    "    \"\"\"\n",
    "    mapping = {}\n",
    "\n",
    "    for column in df.columns:\n",
    "        if not pd.api.types.is_numeric_dtype(df[column]):\n",
    "            counter = 0\n",
    "            mapping[column] = {}\n",
    "\n",
    "            for value in df[column]:\n",
    "                if value in mapping[column].keys():\n",
    "                    continue\n",
    "\n",
    "                mapping[column][value] = counter\n",
    "                mapping[column][counter] = value\n",
    "                counter += 1\n",
    "\n",
    "            df = df.replace({column: mapping[column]})\n",
    "\n",
    "    return df, mapping"
   ]
  },
  {
   "cell_type": "code",
   "execution_count": null,
   "metadata": {},
   "outputs": [],
   "source": [
    "def normalize(df):\n",
    "    for column in df.columns:\n",
    "        df[column] = (df[column] - df[column].min()) / (df[column].max() - df[column].min())\n",
    "\n",
    "    return df"
   ]
  },
  {
   "cell_type": "code",
   "execution_count": null,
   "metadata": {},
   "outputs": [],
   "source": [
    "def unnormalize(df, column, value):\n",
    "    \"\"\"Takes in a dataframe, a column, and a value then reverses the\n",
    "    normalization on the value is if it were a value in the given column of the\n",
    "    given dataframe\n",
    "    \"\"\"\n",
    "    return value * (df[column].max() - df[column].min()) + df[column].min()"
   ]
  },
  {
   "cell_type": "code",
   "execution_count": null,
   "metadata": {},
   "outputs": [],
   "source": [
    "df = pd.read_csv('/home/anthony/src/school/cs570/cs570/project3/data/train_num.csv')\n",
    "unnormalize(df, 'SalePrice', .1139)"
   ]
  },
  {
   "cell_type": "code",
   "execution_count": null,
   "metadata": {},
   "outputs": [],
   "source": [
    "# Only load train because test doesn't have the SalePrice\n",
    "df = pd.read_csv('/home/anthony/src/school/cs570/cs570/project3/data/train.csv')\n",
    "# We don't want to include Id in our regression because it is arbitrary\n",
    "df.drop('Id', axis=1, inplace=True)\n",
    "# Nan values cause issues, replace them with 0\n",
    "df.fillna(0, inplace=True)\n",
    "\n",
    "# Map categorical column values to numerical values arbitrarily but consistently\n",
    "df, mapping = categorical_to_numeric(df)\n",
    "# df = normalize(df)\n",
    "print(len(df.iloc[0]))\n",
    "print(df.iloc[0])"
   ]
  },
  {
   "cell_type": "code",
   "execution_count": null,
   "metadata": {},
   "outputs": [],
   "source": [
    "# What we are trying to predict\n",
    "dependent_var = 'SalePrice'\n",
    "\n",
    "# All independent variables\n",
    "covariates = df[df.columns[df.columns!=dependent_var]]\n",
    "# The dependent variable\n",
    "dependent = df[dependent_var]"
   ]
  },
  {
   "cell_type": "code",
   "execution_count": null,
   "metadata": {},
   "outputs": [],
   "source": [
    "regression = linear_model.LinearRegression()\n",
    "regression.fit(covariates.values, dependent)\n",
    "\n",
    "test = df.iloc[0]\n",
    "test = test.drop(dependent_var)\n",
    "\n",
    "regression.predict([test])"
   ]
  },
  {
   "cell_type": "code",
   "execution_count": null,
   "metadata": {},
   "outputs": [],
   "source": [
    "regression.coef_"
   ]
  },
  {
   "cell_type": "code",
   "execution_count": null,
   "metadata": {},
   "outputs": [],
   "source": [
    "# Only load train because test doesn't have the SalePrice\n",
    "df = pd.read_csv('/home/anthony/src/school/cs570/cs570/project3/data/train.csv')\n",
    "# We don't want to include Id in our regression because it is arbitrary\n",
    "df.drop('Id', axis=1, inplace=True)\n",
    "# Nan values cause issues, replace them with 0\n",
    "df.fillna(0, inplace=True)\n",
    "\n",
    "# Map categorical column values to numerical values arbitrarily but consistently\n",
    "df, mapping = categorical_to_numeric(df)\n",
    "\n",
    "df.to_csv('./data/train_num.csv')\n",
    "df = pd.read_csv('./data/train_num.csv')\n",
    "print(len(df.iloc[0]))"
   ]
  },
  {
   "cell_type": "code",
   "execution_count": null,
   "metadata": {},
   "outputs": [],
   "source": [
    "# Only load train because test doesn't have the SalePrice\n",
    "df = pd.read_csv('/home/anthony/src/school/cs570/cs570/project3/data/test.csv')\n",
    "# We don't want to include Id in our regression because it is arbitrary\n",
    "df.drop('Id', axis=1, inplace=True)\n",
    "# Nan values cause issues, replace them with 0\n",
    "df.fillna(0, inplace=True)\n",
    "\n",
    "# Map categorical column values to numerical values arbitrarily but consistently\n",
    "df, mapping = categorical_to_numeric(df)\n",
    "\n",
    "df.to_csv('./data/test_num.csv')\n",
    "df = pd.read_csv('./data/test_num.csv')\n",
    "print(len(df.iloc[0]))"
   ]
  },
  {
   "cell_type": "code",
   "execution_count": null,
   "metadata": {},
   "outputs": [],
   "source": [
    "# Only load train because test doesn't have the SalePrice\n",
    "df = pd.read_csv('/home/anthony/src/school/cs570/cs570/project3/data/train.csv')\n",
    "# We don't want to include Id in our regression because it is arbitrary\n",
    "df.drop('Id', axis=1, inplace=True)\n",
    "# Nan values cause issues, replace them with 0\n",
    "df.fillna(0, inplace=True)\n",
    "\n",
    "# Map categorical column values to numerical values arbitrarily but consistently\n",
    "df, mapping = categorical_to_numeric(df)\n",
    "df = normalize(df)\n",
    "\n",
    "df.to_csv('./data/train_norm_num.csv')\n",
    "df = pd.read_csv('./data/train_norm_num.csv')\n",
    "print(len(df.iloc[0]))"
   ]
  },
  {
   "cell_type": "code",
   "execution_count": null,
   "metadata": {},
   "outputs": [],
   "source": [
    "# Only load train because test doesn't have the SalePrice\n",
    "df = pd.read_csv('/home/anthony/src/school/cs570/cs570/project3/data/test.csv')\n",
    "# We don't want to include Id in our regression because it is arbitrary\n",
    "df.drop('Id', axis=1, inplace=True)\n",
    "# Nan values cause issues, replace them with 0\n",
    "df.fillna(0, inplace=True)\n",
    "\n",
    "# Map categorical column values to numerical values arbitrarily but consistently\n",
    "df, mapping = categorical_to_numeric(df)\n",
    "df = normalize(df)\n",
    "\n",
    "df.to_csv('./data/test_norm_num.csv')\n",
    "df = pd.read_csv('./data/test_norm_num.csv')\n",
    "print(len(df.iloc[0]))"
   ]
  },
  {
   "cell_type": "code",
   "execution_count": null,
   "metadata": {},
   "outputs": [],
   "source": [
    "import torch\n",
    "\n",
    "import numpy as np\n",
    "import pandas as pd"
   ]
  },
  {
   "cell_type": "code",
   "execution_count": null,
   "metadata": {},
   "outputs": [],
   "source": [
    "class Net(torch.nn.Module):\n",
    "    def __init__(self):\n",
    "        super(Net, self).__init__()\n",
    "        self.hid1 = torch.nn.Linear(79, 61)  # 79-(61-61)-1\n",
    "        self.hid2 = torch.nn.Linear(61, 61)\n",
    "        self.oupt = torch.nn.Linear(61, 1)\n",
    "        torch.nn.init.xavier_uniform_(self.hid1.weight)  # glorot\n",
    "        torch.nn.init.zeros_(self.hid1.bias)\n",
    "        torch.nn.init.xavier_uniform_(self.hid2.weight)\n",
    "        torch.nn.init.zeros_(self.hid2.bias)\n",
    "        torch.nn.init.xavier_uniform_(self.oupt.weight)\n",
    "        torch.nn.init.zeros_(self.oupt.bias)\n",
    "\n",
    "    def forward(self, x):\n",
    "        z = torch.tanh(self.hid1(x))\n",
    "        z = torch.tanh(self.hid2(z))\n",
    "        z = self.oupt(z)  # no activation, aka Identity()\n",
    "        return z"
   ]
  },
  {
   "cell_type": "code",
   "execution_count": null,
   "metadata": {},
   "outputs": [],
   "source": [
    "test_fp = '/home/anthony/src/school/cs570/cs570/project3/data/test_norm_num.csv'\n",
    "test_x_id = np.loadtxt(test_fp, delimiter=\",\", skiprows=1, usecols=range(0, 1), dtype=np.float32)\n",
    "test_x = np.loadtxt(test_fp, delimiter=\",\", skiprows=1, usecols=range(1, 80), dtype=np.float32)"
   ]
  },
  {
   "cell_type": "code",
   "execution_count": null,
   "metadata": {},
   "outputs": [],
   "source": [
    "loaded = Net()\n",
    "loaded.load_state_dict(torch.load('norm.pth'))\n",
    "loaded = loaded.eval()"
   ]
  },
  {
   "cell_type": "code",
   "execution_count": null,
   "metadata": {},
   "outputs": [],
   "source": [
    "out_fp = './nn_out.csv'\n",
    "with open(out_fp, 'w') as fh:\n",
    "    fh.write('Id, SalePrice\\n')\n",
    "    for id, val in zip(test_x_id, test_x):\n",
    "        pred = loaded(torch.Tensor(val))[0].item()\n",
    "        unnormalized_pred = unnormalize(df, 'SalePrice', pred)\n",
    "        fh.write(f'{int(id) + 1461}, {unnormalized_pred}\\n')"
   ]
  }
 ],
 "metadata": {
  "kernelspec": {
   "display_name": "cs570",
   "language": "python",
   "name": "cs570"
  },
  "language_info": {
   "codemirror_mode": {
    "name": "ipython",
    "version": 3
   },
   "file_extension": ".py",
   "mimetype": "text/x-python",
   "name": "python",
   "nbconvert_exporter": "python",
   "pygments_lexer": "ipython3",
   "version": "3.8.13"
  },
  "orig_nbformat": 4,
  "vscode": {
   "interpreter": {
    "hash": "f62bda96c95cf99f66c2399ad8a8c2403680698ed01c2bf0da030b04f4559496"
   }
  }
 },
 "nbformat": 4,
 "nbformat_minor": 2
}
