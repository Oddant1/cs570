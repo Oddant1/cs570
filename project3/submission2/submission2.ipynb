{
 "cells": [
  {
   "cell_type": "code",
   "execution_count": null,
   "metadata": {},
   "outputs": [],
   "source": [
    "import torch\n",
    "\n",
    "import numpy as np\n",
    "import pandas as pd\n",
    "\n",
    "import submission2_utils as util\n",
    "import genetic"
   ]
  },
  {
   "cell_type": "code",
   "execution_count": null,
   "metadata": {},
   "outputs": [],
   "source": [
    "# Prep our data\n",
    "df = pd.read_csv('../data/train.csv', index_col=0)\n",
    "df.fillna(0, inplace=True)\n",
    "num_df, mapping, reverse_mapping = util.categorical_to_numeric(df)\n",
    "# num_df.to_csv('../data/train_num.csv')\n",
    "norm_df = util.normalize(num_df)\n",
    "# norm_df.to_csv('../data/train_norm_num.csv')"
   ]
  },
  {
   "cell_type": "code",
   "execution_count": null,
   "metadata": {},
   "outputs": [],
   "source": [
    "norm_thresholds = (.2, .4, .6, .8, 1)\n",
    "unnorm_thresholds = \\\n",
    "    [util.unnormalize(num_df, 'SalePrice', x) for x in norm_thresholds]\n",
    "\n",
    "fitness_function = util.Net()\n",
    "fitness_function.load_state_dict(torch.load('../model/sub2.pth'))\n",
    "fitness_function = fitness_function.eval()\n",
    "\n",
    "first_generation = [house for house in util.create_houses(20, num_df, mapping)]"
   ]
  },
  {
   "cell_type": "code",
   "execution_count": null,
   "metadata": {},
   "outputs": [],
   "source": [
    "generations, pruned_generations = genetic.genetic_algorithm(first_generation, fitness_function, 20,\n",
    "                                                            100, unnorm_thresholds[0], num_df, mapping,\n",
    "                                                            reverse_mapping)"
   ]
  },
  {
   "cell_type": "code",
   "execution_count": null,
   "metadata": {},
   "outputs": [],
   "source": [
    "print(unnorm_thresholds[0])"
   ]
  },
  {
   "cell_type": "code",
   "execution_count": null,
   "metadata": {},
   "outputs": [],
   "source": [
    "for idx, generation in enumerate(generations):\n",
    "    valid_generation = [house for house in generation if house[0] <= unnorm_thresholds[0]]\n",
    "    sum = 0\n",
    "    num = 0\n",
    "    for house in valid_generation:\n",
    "        sum += house[0]\n",
    "        num += 1\n",
    "    sum /= num\n",
    "    print(f'{idx}, {num}: {sum}')"
   ]
  },
  {
   "cell_type": "code",
   "execution_count": null,
   "metadata": {},
   "outputs": [],
   "source": [
    "for idx, generation in enumerate(pruned_generations):\n",
    "    sum = 0\n",
    "    num = 0\n",
    "    for house in generation[:10]:\n",
    "        sum += house[0]\n",
    "        num += 1\n",
    "    if num > 0:\n",
    "        sum /= num\n",
    "    print(f'{idx}, {num}: {sum}')"
   ]
  },
  {
   "cell_type": "code",
   "execution_count": null,
   "metadata": {},
   "outputs": [],
   "source": [
    "print(pruned_generations[0])"
   ]
  },
  {
   "cell_type": "code",
   "execution_count": null,
   "metadata": {},
   "outputs": [],
   "source": [
    "print(pruned_generations[-1])"
   ]
  }
 ],
 "metadata": {
  "kernelspec": {
   "display_name": "cs570",
   "language": "python",
   "name": "cs570"
  },
  "language_info": {
   "codemirror_mode": {
    "name": "ipython",
    "version": 3
   },
   "file_extension": ".py",
   "mimetype": "text/x-python",
   "name": "python",
   "nbconvert_exporter": "python",
   "pygments_lexer": "ipython3",
   "version": "3.8.13"
  },
  "orig_nbformat": 4,
  "vscode": {
   "interpreter": {
    "hash": "f62bda96c95cf99f66c2399ad8a8c2403680698ed01c2bf0da030b04f4559496"
   }
  }
 },
 "nbformat": 4,
 "nbformat_minor": 2
}
