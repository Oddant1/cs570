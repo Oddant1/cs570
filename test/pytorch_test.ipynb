{
 "cells": [
  {
   "cell_type": "code",
   "execution_count": 1,
   "metadata": {},
   "outputs": [],
   "source": [
    "import torch\n",
    "\n",
    "import numpy as np\n",
    "import pandas as pd"
   ]
  },
  {
   "cell_type": "code",
   "execution_count": 2,
   "metadata": {},
   "outputs": [],
   "source": [
    "def accuracy(model, data_x, data_y, pct_close):\n",
    "    n_items = len(data_y)\n",
    "    X = torch.Tensor(data_x)  # 2-d torchensor\n",
    "    Y = torch.Tensor(data_y)  # actual as 1-d torchensor\n",
    "    oupt = model(X)  # all predicted as 2-d torchensor\n",
    "    pred = oupt.view(n_items)  # all predicted as 1-d\n",
    "    n_correct = torch.sum((torch.abs(pred - Y) < torch.abs(pct_close * Y)))\n",
    "    result = (n_correct.item() * 100.0 / n_items)  # scalar\n",
    "    return result"
   ]
  },
  {
   "cell_type": "code",
   "execution_count": 3,
   "metadata": {},
   "outputs": [],
   "source": [
    "class Net(torch.nn.Module):\n",
    "    def __init__(self):\n",
    "        super(Net, self).__init__()\n",
    "        self.hid1 = torch.nn.Linear(79, 178)  # 79-(61-61)-1\n",
    "        self.hid2 = torch.nn.Linear(178, 178)\n",
    "        self.hid3 = torch.nn.Linear(178, 178)\n",
    "        self.oupt = torch.nn.Linear(178, 1)\n",
    "        torch.nn.init.xavier_uniform_(self.hid1.weight)  # glorot\n",
    "        torch.nn.init.zeros_(self.hid1.bias)\n",
    "        torch.nn.init.xavier_uniform_(self.hid2.weight)\n",
    "        torch.nn.init.zeros_(self.hid2.bias)\n",
    "        torch.nn.init.xavier_uniform_(self.hid3.weight)\n",
    "        torch.nn.init.zeros_(self.hid3.bias)\n",
    "        torch.nn.init.xavier_uniform_(self.oupt.weight)\n",
    "        torch.nn.init.zeros_(self.oupt.bias)\n",
    "\n",
    "    def forward(self, x):\n",
    "        z = torch.relu(self.hid1(x))\n",
    "        z = torch.relu(self.hid2(z))\n",
    "        z = torch.relu(self.hid3(z))\n",
    "        z = self.oupt(z)  # no activation, aka Identity()\n",
    "        return z"
   ]
  },
  {
   "cell_type": "code",
   "execution_count": 4,
   "metadata": {},
   "outputs": [],
   "source": [
    "train_fp = '/home/anthony/src/school/cs570/cs570/project3/data/train_norm_num.csv'\n",
    "test_fp = '/home/anthony/src/school/cs570/cs570/project3/data/test_norm_num.csv'"
   ]
  },
  {
   "cell_type": "code",
   "execution_count": 7,
   "metadata": {},
   "outputs": [],
   "source": [
    "train_x = np.loadtxt(train_fp, delimiter=\",\", skiprows=1, usecols=range(1, 80), dtype=np.float32)\n",
    "train_y = np.loadtxt(train_fp, delimiter=\",\", skiprows=1, usecols=[80], dtype=np.float32)\n",
    "test_x_id = np.loadtxt(test_fp, delimiter=\",\", skiprows=1, usecols=range(0, 1), dtype=np.float32)\n",
    "test_x = np.loadtxt(test_fp, delimiter=\",\", skiprows=1, usecols=range(1, 80), dtype=np.float32)"
   ]
  },
  {
   "cell_type": "code",
   "execution_count": 8,
   "metadata": {},
   "outputs": [],
   "source": [
    "net = Net()"
   ]
  },
  {
   "cell_type": "code",
   "execution_count": 9,
   "metadata": {},
   "outputs": [
    {
     "name": "stdout",
     "output_type": "stream",
     "text": [
      "batch =      0  batch loss =  0.0416  accuracy = 28.77%\n",
      "batch =  14600  batch loss =  0.0001  accuracy = 98.84%\n",
      "batch =  29200  batch loss =  0.0001  accuracy = 98.90%\n",
      "batch =  43800  batch loss =  0.0000  accuracy = 99.38%\n",
      "batch =  58400  batch loss =  0.0000  accuracy = 97.95%\n",
      "batch =  73000  batch loss =  0.0000  accuracy = 99.52%\n",
      "batch =  87600  batch loss =  0.0000  accuracy = 99.52%\n",
      "batch = 102200  batch loss =  0.0000  accuracy = 99.59%\n",
      "batch = 116800  batch loss =  0.0000  accuracy = 99.66%\n",
      "batch = 131400  batch loss =  0.0000  accuracy = 99.52%\n"
     ]
    }
   ],
   "source": [
    "net = net.train()  # set training mode\n",
    "bat_size = 10\n",
    "\n",
    "loss_func = torch.nn.MSELoss()  # mean squared error\n",
    "optimizer = torch.optim.Adam(net.parameters())\n",
    "\n",
    "n_items = len(train_x)\n",
    "batches_per_epoch = n_items // bat_size\n",
    "max_batches = 1000 * batches_per_epoch\n",
    "\n",
    "for b in range(max_batches):\n",
    "    curr_bat = np.random.choice(n_items, bat_size, replace=False)\n",
    "    X = torch.Tensor(train_x[curr_bat])\n",
    "    Y = torch.Tensor(train_y[curr_bat]).view(bat_size,1)\n",
    "\n",
    "    optimizer.zero_grad()\n",
    "    oupt = net(X)\n",
    "    loss_obj = loss_func(oupt, Y)\n",
    "    loss_obj.backward()\n",
    "    optimizer.step()\n",
    "\n",
    "    if b % (max_batches // 10) == 0 or b == max_batches:\n",
    "        print(\"batch = %6d\" % b, end=\"\")\n",
    "        print(\"  batch loss = %7.4f\" % loss_obj.item(), end=\"\")\n",
    "        net = net.eval()\n",
    "        acc = accuracy(net, train_x, train_y, 0.15)\n",
    "        net = net.train()\n",
    "        print(\"  accuracy = %0.2f%%\" % acc)\n"
   ]
  },
  {
   "cell_type": "code",
   "execution_count": 10,
   "metadata": {},
   "outputs": [],
   "source": [
    "torch.save(net.state_dict(), 'sub2.pth')"
   ]
  },
  {
   "cell_type": "code",
   "execution_count": null,
   "metadata": {},
   "outputs": [],
   "source": [
    "10-10, 61-61 ended with .0002 loss and like 68%\n",
    "\n",
    "batch =      0  batch loss =  0.1129  accuracy = 4.04%\n",
    "batch =  14600  batch loss =  0.0012  accuracy = 47.60%\n",
    "batch =  29200  batch loss =  0.0006  accuracy = 56.16%\n",
    "batch =  43800  batch loss =  0.0009  accuracy = 59.45%\n",
    "batch =  58400  batch loss =  0.0007  accuracy = 61.78%\n",
    "batch =  73000  batch loss =  0.0027  accuracy = 62.33%\n",
    "batch =  87600  batch loss =  0.0032  accuracy = 63.70%\n",
    "batch = 102200  batch loss =  0.0010  accuracy = 65.34%\n",
    "batch = 116800  batch loss =  0.0011  accuracy = 65.82%\n",
    "batch = 131400  batch loss =  0.0008  accuracy = 66.58%"
   ]
  },
  {
   "cell_type": "code",
   "execution_count": null,
   "metadata": {},
   "outputs": [],
   "source": [
    "16-16\n",
    "\n",
    "batch =      0  batch loss =  0.4401  accuracy = 4.86%\n",
    "batch =  14600  batch loss =  0.0017  accuracy = 52.60%\n",
    "batch =  29200  batch loss =  0.0016  accuracy = 58.63%\n",
    "batch =  43800  batch loss =  0.0011  accuracy = 58.77%\n",
    "batch =  58400  batch loss =  0.0011  accuracy = 63.63%\n",
    "batch =  73000  batch loss =  0.0012  accuracy = 64.25%\n",
    "batch =  87600  batch loss =  0.0012  accuracy = 65.62%\n",
    "batch = 102200  batch loss =  0.0008  accuracy = 66.44%\n",
    "batch = 116800  batch loss =  0.0007  accuracy = 66.78%\n",
    "batch = 131400  batch loss =  0.0007  accuracy = 66.71%"
   ]
  },
  {
   "cell_type": "code",
   "execution_count": null,
   "metadata": {},
   "outputs": [],
   "source": [
    "30-30\n",
    "\n",
    "batch =      0  batch loss =  0.5581  accuracy = 1.23%\n",
    "batch =  14600  batch loss =  0.0004  accuracy = 60.68%\n",
    "batch =  29200  batch loss =  0.0010  accuracy = 64.38%\n",
    "batch =  43800  batch loss =  0.0150  accuracy = 66.37%\n",
    "batch =  58400  batch loss =  0.0013  accuracy = 67.60%\n",
    "batch =  73000  batch loss =  0.0003  accuracy = 68.56%\n",
    "batch =  87600  batch loss =  0.0008  accuracy = 69.11%\n",
    "batch = 102200  batch loss =  0.0012  accuracy = 67.19%\n",
    "batch = 116800  batch loss =  0.0004  accuracy = 69.45%\n",
    "batch = 131400  batch loss =  0.0005  accuracy = 70.75%"
   ]
  },
  {
   "cell_type": "code",
   "execution_count": null,
   "metadata": {},
   "outputs": [],
   "source": [
    "178-178-178\n",
    "\n",
    "batch =      0  batch loss =  0.0188  accuracy = 15.75%\n",
    "batch =  14600  batch loss =  0.0024  accuracy = 62.47%\n",
    "batch =  29200  batch loss =  0.0004  accuracy = 66.92%\n",
    "batch =  43800  batch loss =  0.0084  accuracy = 61.64%\n",
    "batch =  58400  batch loss =  0.0003  accuracy = 67.81%\n",
    "batch =  73000  batch loss =  0.0003  accuracy = 71.37%\n",
    "batch =  87600  batch loss =  0.0003  accuracy = 69.93%\n",
    "batch = 102200  batch loss =  0.0011  accuracy = 72.60%\n",
    "batch = 116800  batch loss =  0.0010  accuracy = 71.85%\n",
    "batch = 131400  batch loss =  0.0004  accuracy = 74.32%"
   ]
  },
  {
   "cell_type": "code",
   "execution_count": null,
   "metadata": {},
   "outputs": [],
   "source": [
    "178-178-178-relu\n",
    "\n",
    "batch =      0  batch loss =  0.0168  accuracy = 21.58%\n",
    "batch =  14600  batch loss =  0.0012  accuracy = 68.56%\n",
    "batch =  29200  batch loss =  0.0006  accuracy = 75.62%\n",
    "batch =  43800  batch loss =  0.0003  accuracy = 79.59%\n",
    "batch =  58400  batch loss =  0.0007  accuracy = 83.01%\n",
    "batch =  73000  batch loss =  0.0003  accuracy = 86.03%\n",
    "batch =  87600  batch loss =  0.0004  accuracy = 89.18%\n",
    "batch = 102200  batch loss =  0.0002  accuracy = 91.10%\n",
    "batch = 116800  batch loss =  0.0002  accuracy = 93.56%\n",
    "batch = 131400  batch loss =  0.0002  accuracy = 94.52%"
   ]
  },
  {
   "cell_type": "code",
   "execution_count": null,
   "metadata": {},
   "outputs": [],
   "source": [
    "178-178-178-relu-adam\n",
    "\n",
    "batch =      0  batch loss =  0.0587  accuracy = 0.00%\n",
    "batch =  14600  batch loss =  0.0003  accuracy = 79.86%\n",
    "batch =  29200  batch loss =  0.0002  accuracy = 80.82%\n",
    "batch =  43800  batch loss =  0.0001  accuracy = 81.99%\n",
    "batch =  58400  batch loss =  0.0006  accuracy = 85.68%\n",
    "batch =  73000  batch loss =  0.0003  accuracy = 92.19%\n",
    "batch =  87600  batch loss =  0.0001  accuracy = 91.37%\n",
    "batch = 102200  batch loss =  0.0001  accuracy = 93.01%\n",
    "batch = 116800  batch loss =  0.0002  accuracy = 91.30%\n",
    "batch = 131400  batch loss =  0.0003  accuracy = 93.15%"
   ]
  },
  {
   "cell_type": "code",
   "execution_count": null,
   "metadata": {},
   "outputs": [],
   "source": [
    "sub2\n",
    "\n",
    "batch =      0  batch loss =  0.0416  accuracy = 28.77%\n",
    "batch =  14600  batch loss =  0.0001  accuracy = 98.84%\n",
    "batch =  29200  batch loss =  0.0001  accuracy = 98.90%\n",
    "batch =  43800  batch loss =  0.0000  accuracy = 99.38%\n",
    "batch =  58400  batch loss =  0.0000  accuracy = 97.95%\n",
    "batch =  73000  batch loss =  0.0000  accuracy = 99.52%\n",
    "batch =  87600  batch loss =  0.0000  accuracy = 99.52%\n",
    "batch = 102200  batch loss =  0.0000  accuracy = 99.59%\n",
    "batch = 116800  batch loss =  0.0000  accuracy = 99.66%\n",
    "batch = 131400  batch loss =  0.0000  accuracy = 99.52%"
   ]
  },
  {
   "cell_type": "code",
   "execution_count": null,
   "metadata": {},
   "outputs": [],
   "source": [
    "net = net.eval()  # set eval mode\n",
    "# acc = accuracy(net, train_x, train_y, 0.15)\n",
    "# print(\"Accuracy on test data = %0.2f%%\" % acc)"
   ]
  },
  {
   "cell_type": "code",
   "execution_count": null,
   "metadata": {},
   "outputs": [],
   "source": [
    "pred = net(torch.Tensor(test_x[0]))"
   ]
  },
  {
   "cell_type": "code",
   "execution_count": null,
   "metadata": {},
   "outputs": [],
   "source": [
    "pred"
   ]
  },
  {
   "cell_type": "code",
   "execution_count": null,
   "metadata": {},
   "outputs": [],
   "source": [
    "loaded = Net()\n",
    "loaded.load_state_dict(torch.load('norm.pth'))\n",
    "loaded = loaded.eval()\n",
    "loaded(torch.Tensor(train_x[0]))[0].item()"
   ]
  }
 ],
 "metadata": {
  "kernelspec": {
   "display_name": "cs570",
   "language": "python",
   "name": "cs570"
  },
  "language_info": {
   "codemirror_mode": {
    "name": "ipython",
    "version": 3
   },
   "file_extension": ".py",
   "mimetype": "text/x-python",
   "name": "python",
   "nbconvert_exporter": "python",
   "pygments_lexer": "ipython3",
   "version": "3.8.13"
  },
  "orig_nbformat": 4,
  "vscode": {
   "interpreter": {
    "hash": "916dbcbb3f70747c44a77c7bcd40155683ae19c65e1c03b4aa3499c5328201f1"
   }
  }
 },
 "nbformat": 4,
 "nbformat_minor": 2
}
