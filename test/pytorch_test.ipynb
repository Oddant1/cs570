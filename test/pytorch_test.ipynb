{
 "cells": [
  {
   "cell_type": "code",
   "execution_count": 2,
   "metadata": {},
   "outputs": [],
   "source": [
    "import torch\n",
    "\n",
    "import numpy as np\n",
    "import pandas as pd"
   ]
  },
  {
   "cell_type": "code",
   "execution_count": 3,
   "metadata": {},
   "outputs": [],
   "source": [
    "def accuracy(model, data_x, data_y, pct_close):\n",
    "    n_items = len(data_y)\n",
    "    X = torch.Tensor(data_x)  # 2-d torchensor\n",
    "    Y = torch.Tensor(data_y)  # actual as 1-d torchensor\n",
    "    oupt = model(X)  # all predicted as 2-d torchensor\n",
    "    pred = oupt.view(n_items)  # all predicted as 1-d\n",
    "    n_correct = torch.sum((torch.abs(pred - Y) < torch.abs(pct_close * Y)))\n",
    "    result = (n_correct.item() * 100.0 / n_items)  # scalar\n",
    "    return result"
   ]
  },
  {
   "cell_type": "code",
   "execution_count": 4,
   "metadata": {},
   "outputs": [],
   "source": [
    "class Net(torch.nn.Module):\n",
    "    def __init__(self):\n",
    "        super(Net, self).__init__()\n",
    "        self.hid1 = torch.nn.Linear(79, 61)  # 79-(61-61)-1\n",
    "        self.hid2 = torch.nn.Linear(61, 61)\n",
    "        self.oupt = torch.nn.Linear(61, 1)\n",
    "        torch.nn.init.xavier_uniform_(self.hid1.weight)  # glorot\n",
    "        torch.nn.init.zeros_(self.hid1.bias)\n",
    "        torch.nn.init.xavier_uniform_(self.hid2.weight)\n",
    "        torch.nn.init.zeros_(self.hid2.bias)\n",
    "        torch.nn.init.xavier_uniform_(self.oupt.weight)\n",
    "        torch.nn.init.zeros_(self.oupt.bias)\n",
    "\n",
    "    def forward(self, x):\n",
    "        z = torch.tanh(self.hid1(x))\n",
    "        z = torch.tanh(self.hid2(z))\n",
    "        z = self.oupt(z)  # no activation, aka Identity()\n",
    "        return z"
   ]
  },
  {
   "cell_type": "code",
   "execution_count": 5,
   "metadata": {},
   "outputs": [],
   "source": [
    "train_fp = '/home/anthony/src/school/cs570/cs570/project3/data/train_norm_num.csv'\n",
    "test_fp = '/home/anthony/src/school/cs570/cs570/project3/data/test_norm_num.csv'"
   ]
  },
  {
   "cell_type": "code",
   "execution_count": 15,
   "metadata": {},
   "outputs": [
    {
     "name": "stdout",
     "output_type": "stream",
     "text": [
      "[0.23529412 0.         0.20766774 0.0334198  0.         0.\n",
      " 0.         0.         0.         0.         0.         0.\n",
      " 0.         0.         0.         0.         0.6666667  0.5\n",
      " 0.9492754  0.8833333  0.         0.         0.         0.\n",
      " 0.         0.1225     0.         0.         0.         0.\n",
      " 0.         0.         0.         0.12508859 0.         0.\n",
      " 0.06421233 0.1400982  0.         0.         0.         0.\n",
      " 0.11977971 0.41355932 0.         0.25923136 0.33333334 0.\n",
      " 0.6666667  0.5        0.375      0.33333334 0.         0.5\n",
      " 0.         0.         0.         0.         0.9965174  0.\n",
      " 0.5        0.3864598  0.         0.         0.         0.\n",
      " 0.11151737 0.         0.         0.         0.         0.\n",
      " 0.         0.         0.         0.09090909 0.5        0.\n",
      " 0.        ]\n"
     ]
    }
   ],
   "source": [
    "train_x = np.loadtxt(train_fp, delimiter=\",\", skiprows=1, usecols=range(1, 80), dtype=np.float32)\n",
    "train_y = np.loadtxt(train_fp, delimiter=\",\", skiprows=1, usecols=[80], dtype=np.float32)\n",
    "test_x_id = np.loadtxt(test_fp, delimiter=\",\", skiprows=1, usecols=range(0, 1), dtype=np.float32)\n",
    "test_x = np.loadtxt(test_fp, delimiter=\",\", skiprows=1, usecols=range(1, 80), dtype=np.float32)"
   ]
  },
  {
   "cell_type": "code",
   "execution_count": 22,
   "metadata": {},
   "outputs": [],
   "source": [
    "net = Net()"
   ]
  },
  {
   "cell_type": "code",
   "execution_count": 23,
   "metadata": {},
   "outputs": [
    {
     "name": "stdout",
     "output_type": "stream",
     "text": [
      "batch =      0  batch loss =  0.1742  accuracy = 7.05%\n",
      "batch =  14600  batch loss =  0.0005  accuracy = 63.84%\n",
      "batch =  29200  batch loss =  0.0004  accuracy = 65.89%\n",
      "batch =  43800  batch loss =  0.0006  accuracy = 66.37%\n",
      "batch =  58400  batch loss =  0.0012  accuracy = 65.89%\n",
      "batch =  73000  batch loss =  0.0013  accuracy = 68.63%\n",
      "batch =  87600  batch loss =  0.0017  accuracy = 69.45%\n",
      "batch = 102200  batch loss =  0.0014  accuracy = 67.12%\n",
      "batch = 116800  batch loss =  0.0003  accuracy = 68.70%\n",
      "batch = 131400  batch loss =  0.0002  accuracy = 68.84%\n"
     ]
    }
   ],
   "source": [
    "net = net.train()  # set training mode\n",
    "bat_size = 10\n",
    "\n",
    "loss_func = torch.nn.MSELoss()  # mean squared error\n",
    "optimizer = torch.optim.SGD(net.parameters(), lr=0.01)\n",
    "\n",
    "n_items = len(train_x)\n",
    "batches_per_epoch = n_items // bat_size\n",
    "max_batches = 1000 * batches_per_epoch\n",
    "\n",
    "for b in range(max_batches):\n",
    "    curr_bat = np.random.choice(n_items, bat_size, replace=False)\n",
    "    X = torch.Tensor(train_x[curr_bat])\n",
    "    Y = torch.Tensor(train_y[curr_bat]).view(bat_size,1)\n",
    "\n",
    "    optimizer.zero_grad()\n",
    "    oupt = net(X)\n",
    "    loss_obj = loss_func(oupt, Y)\n",
    "    loss_obj.backward()\n",
    "    optimizer.step()\n",
    "\n",
    "    if b % (max_batches // 10) == 0:\n",
    "        print(\"batch = %6d\" % b, end=\"\")\n",
    "        print(\"  batch loss = %7.4f\" % loss_obj.item(), end=\"\")\n",
    "        net = net.eval()\n",
    "        acc = accuracy(net, train_x, train_y, 0.15)\n",
    "        net = net.train()\n",
    "        print(\"  accuracy = %0.2f%%\" % acc)\n"
   ]
  },
  {
   "cell_type": "code",
   "execution_count": 24,
   "metadata": {},
   "outputs": [],
   "source": [
    "torch.save(net.state_dict(), 'norm.pth')"
   ]
  },
  {
   "cell_type": "code",
   "execution_count": 25,
   "metadata": {},
   "outputs": [],
   "source": [
    "net = net.eval()  # set eval mode\n",
    "# acc = accuracy(net, train_x, train_y, 0.15)\n",
    "# print(\"Accuracy on test data = %0.2f%%\" % acc)"
   ]
  },
  {
   "cell_type": "code",
   "execution_count": 33,
   "metadata": {},
   "outputs": [],
   "source": [
    "pred = net(torch.Tensor(test_x[0]))"
   ]
  },
  {
   "cell_type": "code",
   "execution_count": 34,
   "metadata": {},
   "outputs": [
    {
     "data": {
      "text/plain": [
       "tensor([0.1139], grad_fn=<AddBackward0>)"
      ]
     },
     "execution_count": 34,
     "metadata": {},
     "output_type": "execute_result"
    }
   ],
   "source": [
    "pred"
   ]
  },
  {
   "cell_type": "code",
   "execution_count": 10,
   "metadata": {},
   "outputs": [
    {
     "data": {
      "text/plain": [
       "0.24004225432872772"
      ]
     },
     "execution_count": 10,
     "metadata": {},
     "output_type": "execute_result"
    }
   ],
   "source": [
    "loaded = Net()\n",
    "loaded.load_state_dict(torch.load('norm.pth'))\n",
    "loaded = loaded.eval()\n",
    "loaded(torch.Tensor(train_x[0]))[0].item()"
   ]
  }
 ],
 "metadata": {
  "kernelspec": {
   "display_name": "cs570",
   "language": "python",
   "name": "cs570"
  },
  "language_info": {
   "codemirror_mode": {
    "name": "ipython",
    "version": 3
   },
   "file_extension": ".py",
   "mimetype": "text/x-python",
   "name": "python",
   "nbconvert_exporter": "python",
   "pygments_lexer": "ipython3",
   "version": "3.8.13"
  },
  "orig_nbformat": 4,
  "vscode": {
   "interpreter": {
    "hash": "916dbcbb3f70747c44a77c7bcd40155683ae19c65e1c03b4aa3499c5328201f1"
   }
  }
 },
 "nbformat": 4,
 "nbformat_minor": 2
}
