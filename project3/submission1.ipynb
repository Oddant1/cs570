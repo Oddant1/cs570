{
 "cells": [
  {
   "cell_type": "code",
   "execution_count": 1,
   "metadata": {},
   "outputs": [],
   "source": [
    "import pandas as pd\n",
    "from sklearn import linear_model"
   ]
  },
  {
   "cell_type": "code",
   "execution_count": 2,
   "metadata": {},
   "outputs": [],
   "source": [
    "def categorical_to_numeric(df):\n",
    "    \"\"\"Takes a dataframe and for every non-numeric column in the dataframe it\n",
    "    maps each observed value in that column to a unique numerical value. It\n",
    "    returns the dataframe mutated by the mapping and the mapping\n",
    "    \"\"\"\n",
    "    mapping = {}\n",
    "\n",
    "    for column in df.columns:\n",
    "        if not pd.api.types.is_numeric_dtype(df[column]):\n",
    "            counter = 0\n",
    "            mapping[column] = {}\n",
    "\n",
    "            for value in df[column]:\n",
    "                if value in mapping[column].keys():\n",
    "                    continue\n",
    "\n",
    "                mapping[column][value] = counter\n",
    "                counter += 1\n",
    "\n",
    "            df = df.replace({column: mapping[column]})\n",
    "\n",
    "    return df, mapping\n"
   ]
  },
  {
   "cell_type": "code",
   "execution_count": 3,
   "metadata": {},
   "outputs": [],
   "source": [
    "# Only load train because test doesn't have the SalePrice\n",
    "df = pd.read_csv('/home/anthony/src/school/cs570/cs570/project3/data/train.csv')\n",
    "# We don't want to include Id in our regression because it is arbitrary\n",
    "df.drop('Id', axis=1, inplace=True)\n",
    "# Nan values cause issues, replace them with 0\n",
    "df.fillna(0, inplace=True)\n",
    "\n",
    "# Map categorical column values to numerical values arbitrarily but consistently\n",
    "df, mapping = categorical_to_numeric(df)"
   ]
  },
  {
   "cell_type": "code",
   "execution_count": 4,
   "metadata": {},
   "outputs": [],
   "source": [
    "# What we are trying to predict\n",
    "dependent_var = 'SalePrice'\n",
    "\n",
    "# All independent variables\n",
    "covariates = df[df.columns[df.columns!=dependent_var]]\n",
    "# The dependent variable\n",
    "dependent = df[dependent_var]"
   ]
  },
  {
   "cell_type": "code",
   "execution_count": 6,
   "metadata": {},
   "outputs": [
    {
     "data": {
      "text/plain": [
       "array([193094.14894694])"
      ]
     },
     "execution_count": 6,
     "metadata": {},
     "output_type": "execute_result"
    }
   ],
   "source": [
    "regression = linear_model.LinearRegression()\n",
    "regression.fit(covariates.values, dependent)\n",
    "\n",
    "test = df.iloc[0]\n",
    "test = test.drop(dependent_var)\n",
    "\n",
    "regression.predict([test])"
   ]
  },
  {
   "cell_type": "code",
   "execution_count": 7,
   "metadata": {},
   "outputs": [
    {
     "data": {
      "text/plain": [
       "array([-7.00903429e+01,  2.72815397e+02, -1.18046467e+01,  3.96045861e-01,\n",
       "       -3.56444582e+04, -1.53662812e+03,  1.55452430e+03,  2.24710847e+03,\n",
       "       -5.34112889e+04,  9.26795758e+02,  5.17288132e+03, -3.12230682e+02,\n",
       "       -2.54209841e+03, -9.65289388e+03, -2.33664009e+03,  5.71280907e+02,\n",
       "        1.37597157e+04,  6.67869590e+03,  4.26748627e+02,  1.19346766e+02,\n",
       "        4.66293306e+03, -7.78316465e+03, -6.21479615e+02,  5.63760918e+02,\n",
       "        3.76787164e+03,  2.85207938e+01,  3.28366716e+03,  3.56808491e+00,\n",
       "       -1.60032888e+03,  6.34423745e+03, -1.24962875e+03,  2.12714630e+03,\n",
       "       -7.85453820e+02,  7.40808345e+00, -1.34214167e+03,  1.08215593e+01,\n",
       "       -1.68019252e+00,  1.65494519e+01,  1.78133117e+02, -2.40554841e+03,\n",
       "        4.83173980e+03,  1.94844474e+03,  2.34465039e+01,  2.38550318e+01,\n",
       "       -2.22298221e+01,  2.50717142e+01,  7.08758006e+03, -2.05583190e+03,\n",
       "        5.99631392e+03,  8.61358203e+02, -7.71956934e+03, -2.18144383e+04,\n",
       "        7.08838028e+03,  3.85091472e+03, -4.62888021e+03,  7.80018331e+01,\n",
       "        3.29583479e+03,  1.32217727e+02,  7.50646271e-01,  1.91708620e+03,\n",
       "        1.13936626e+04,  7.13150227e+00,  6.88057970e+03, -2.99220510e+03,\n",
       "       -1.37707315e+03,  2.70072848e+01,  1.09373578e+01, -7.39412544e-02,\n",
       "        2.04170924e+01,  6.03587724e+01,  6.97290301e+02, -1.92650371e+05,\n",
       "       -2.02812591e+03, -1.55155838e+03,  1.14573133e+00, -1.13671549e+01,\n",
       "       -4.50732375e+01,  2.51708008e+03,  5.38930291e+02])"
      ]
     },
     "execution_count": 7,
     "metadata": {},
     "output_type": "execute_result"
    }
   ],
   "source": [
    "regression.coef_"
   ]
  }
 ],
 "metadata": {
  "kernelspec": {
   "display_name": "cs570",
   "language": "python",
   "name": "cs570"
  },
  "language_info": {
   "codemirror_mode": {
    "name": "ipython",
    "version": 3
   },
   "file_extension": ".py",
   "mimetype": "text/x-python",
   "name": "python",
   "nbconvert_exporter": "python",
   "pygments_lexer": "ipython3",
   "version": "3.8.13"
  },
  "orig_nbformat": 4,
  "vscode": {
   "interpreter": {
    "hash": "f62bda96c95cf99f66c2399ad8a8c2403680698ed01c2bf0da030b04f4559496"
   }
  }
 },
 "nbformat": 4,
 "nbformat_minor": 2
}
